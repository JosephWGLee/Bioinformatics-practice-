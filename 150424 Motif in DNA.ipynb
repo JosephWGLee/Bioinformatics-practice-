{
 "cells": [
  {
   "cell_type": "code",
   "execution_count": null,
   "id": "5e7ee384-5e4d-402c-9ada-a467757645fb",
   "metadata": {},
   "outputs": [],
   "source": [
    "# AIM: FINDING A MOTIF IN DNA Given: Two DNA strings s and t. Return: All locations of t as a substring of s"
   ]
  },
  {
   "cell_type": "code",
   "execution_count": 30,
   "id": "9aa1b34f-d221-493a-82d3-20f4c75c29e7",
   "metadata": {
    "tags": []
   },
   "outputs": [],
   "source": [
    "file = open (r\"C:\\Users\\UserExample\\LocationExample\\ExampleFile.txt\") #read the text file with the full location"
   ]
  },
  {
   "cell_type": "code",
   "execution_count": 31,
   "id": "da2afe6c-0c27-4742-876f-5c00a6b7c392",
   "metadata": {
    "tags": []
   },
   "outputs": [],
   "source": [
    "content = file.read() #defining variable content as the read .txt file"
   ]
  },
  {
   "cell_type": "code",
   "execution_count": 32,
   "id": "0057b659-c1e8-4b39-aba1-df112751d752",
   "metadata": {
    "tags": []
   },
   "outputs": [],
   "source": [
    "file.close() "
   ]
  },
  {
   "cell_type": "code",
   "execution_count": 33,
   "id": "4378e0c6-fa0b-4ed1-8e2b-1aaa3a1ab5a7",
   "metadata": {
    "tags": []
   },
   "outputs": [],
   "source": [
    "split = content.splitlines() #converted variable content a into a list. Each line of the .txt file is a different variable"
   ]
  },
  {
   "cell_type": "code",
   "execution_count": 34,
   "id": "4343e464-fa5a-4094-adef-c3e301080be2",
   "metadata": {
    "tags": []
   },
   "outputs": [],
   "source": [
    "Sequence = split[0] #slicing the list taking first variable so the first line. Renaming this as sequence"
   ]
  },
  {
   "cell_type": "code",
   "execution_count": 35,
   "id": "371625ba-6975-425e-a7a7-a6a50ba3fbfa",
   "metadata": {
    "tags": []
   },
   "outputs": [],
   "source": [
    "Motif = split[1] #slicing the list taking second variable so the second line. Renaming this as motif"
   ]
  },
  {
   "cell_type": "code",
   "execution_count": 36,
   "id": "d885d14c-c5ab-4015-bae3-cd6a971644f9",
   "metadata": {
    "tags": []
   },
   "outputs": [],
   "source": [
    "matches = [x + 1 for x in [match.start() for match in re.finditer(f\"(?=({Motif}))\", Sequence)]]\n",
    "\n",
    "# matches = [match.start() for match in re.finditer(f'(?=({substring}))', main_string)]\n",
    "# match.start() Where does the motif begin in the main sequence? This gives me a location\n",
    "# re.finditer searching for NON OVERLAPPING occurences of the motif in sequence \n",
    "# (?=...) Called a postive lookahead. Allows me to search for OVERLAPPING motifs. (e.g ATATAT) \n",
    "# {} Dictionary key value pair. \"Motif\" matched with the sequence\n",
    "# f\"\" string literal to embed expressions within a string \n",
    "\n",
    "# used list comprehnesion [x + 1 for x in matches] to convert into actual readable values \n"
   ]
  },
  {
   "cell_type": "code",
   "execution_count": 37,
   "id": "fed9fa02-351c-4f42-81d5-6b0c5de5c3f0",
   "metadata": {
    "tags": []
   },
   "outputs": [
    {
     "name": "stdout",
     "output_type": "stream",
     "text": [
      "The motif ATAT was found at residue(s): [2, 4, 10]\n"
     ]
    }
   ],
   "source": [
    "print(\"The motif\", (Motif), \"was found at residue(s):\", (matches))"
   ]
  },
  {
   "cell_type": "code",
   "execution_count": null,
   "id": "75c55288-3ab8-4fbb-ae1a-0b0b72074303",
   "metadata": {},
   "outputs": [],
   "source": [
    "# A lot of the comments on this code is helpful for me to come back and understand it at a later date\n",
    "# This is probably the first piece of code I am truly proud of even though it is short \n",
    "# I learnt how to read a file and then use information from the file as variables \n",
    "# Progress is slow as I'm teaching myself everything but I am enjoying it "
   ]
  }
 ],
 "metadata": {
  "kernelspec": {
   "display_name": "Python 3 (ipykernel)",
   "language": "python",
   "name": "python3"
  },
  "language_info": {
   "codemirror_mode": {
    "name": "ipython",
    "version": 3
   },
   "file_extension": ".py",
   "mimetype": "text/x-python",
   "name": "python",
   "nbconvert_exporter": "python",
   "pygments_lexer": "ipython3",
   "version": "3.11.5"
  }
 },
 "nbformat": 4,
 "nbformat_minor": 5
}
