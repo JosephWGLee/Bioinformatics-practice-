{
 "cells": [
  {
   "cell_type": "code",
   "execution_count": 150,
   "id": "ef80761b-4fd9-4130-af5e-9ff2b7ad4fbd",
   "metadata": {
    "tags": []
   },
   "outputs": [
    {
     "name": "stdout",
     "output_type": "stream",
     "text": [
      "0.7722139948167346\n"
     ]
    }
   ],
   "source": [
    "def Mendels_First_Law(k,m,n):\n",
    "    \n",
    "    t = k+m+n\n",
    "    AAAA = (k/t) * ((k-1) / (t-1))\n",
    "    AAAa = (k/t) * ((m) / (t-1))\n",
    "    AaAA = (m/t) *((k) / (t-1))\n",
    "    AAaa = (k/t) * ((n) / (t-1))\n",
    "    aaAA = (n/t) * ((k) / (t-1))\n",
    "    AaAa = (m/t) * ((m-1) / (t-1)) #Recessive possible .25\n",
    "    Aaaa = (m/t) * ((n) / (t-1)) #Recessive possible .5\n",
    "    aaAa = (n/t) * ((m) / (t-1)) #Recessive possible .5\n",
    "    aaaa = (n/t) * ((n-1) / (t-1)) #Recessive possible 1 \n",
    "    \n",
    "    Recessive = (AaAa * 0.25) + (Aaaa * 0.5) + (aaAa * 0.5) + aaaa \n",
    "    Dominant = 1 - Recessive\n",
    "    return Dominant\n",
    "\n",
    "\n",
    "k=27\n",
    "m=23\n",
    "n=24\n",
    "print (Mendels_First_Law(k,m,n))"
   ]
  },
  {
   "cell_type": "code",
   "execution_count": 148,
   "id": "bc52f6a9-648a-43dd-b147-91a03f9f1c5d",
   "metadata": {
    "tags": []
   },
   "outputs": [
    {
     "name": "stdout",
     "output_type": "stream",
     "text": [
      "0.7722139948167346\n"
     ]
    }
   ],
   "source": [
    "def Mendels_First_Law(k,m,n):\n",
    "    \n",
    "    t = k+m+n\n",
    "    AAAA = (k/t) * ((k-1) / (t-1))\n",
    "    AAAa = ((k/t) * ((m) / (t-1))) + ((m/t) *((k) / (t-1)))\n",
    "    AAaa = ((k/t) * ((n) / (t-1))) + ((n/t) * ((k) / (t-1)))\n",
    "    AaAa = (m/t) * ((m-1) / (t-1)) #Recessive possible .25\n",
    "    Aaaa = ((n/t) * ((m) / (t-1))) + ((m/t) * ((n) / (t-1))) #Recessive possible .5\n",
    "    aaaa = (n/t) * ((n-1) / (t-1)) #Recessive possible 1 \n",
    "    \n",
    "    Recessive = (AaAa * 0.25) + (Aaaa * 0.5) + aaaa \n",
    "    Dominant = 1 - Recessive\n",
    "    return Dominant\n",
    "\n",
    "\n",
    "k=27\n",
    "m=23\n",
    "n=24\n",
    "print (Mendels_First_Law(k,m,n))\n",
    "\n",
   ]
  }
 ],
 "metadata": {
  "kernelspec": {
   "display_name": "Python 3 (ipykernel)",
   "language": "python",
   "name": "python3"
  },
  "language_info": {
   "codemirror_mode": {
    "name": "ipython",
    "version": 3
   },
   "file_extension": ".py",
   "mimetype": "text/x-python",
   "name": "python",
   "nbconvert_exporter": "python",
   "pygments_lexer": "ipython3",
   "version": "3.11.5"
  }
 },
 "nbformat": 4,
 "nbformat_minor": 5
}
