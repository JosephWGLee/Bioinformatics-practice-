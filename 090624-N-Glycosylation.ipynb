{
 "cells": [
  {
   "cell_type": "code",
   "execution_count": 21,
   "id": "a3f44ad6-8470-4b97-b984-01a4606c85b4",
   "metadata": {
    "tags": []
   },
   "outputs": [],
   "source": [
    "import requests"
   ]
  },
  {
   "cell_type": "code",
   "execution_count": 22,
   "id": "554f86f4-7b12-4a96-ac36-df693f6a6c7c",
   "metadata": {
    "tags": []
   },
   "outputs": [],
   "source": [
    "import re"
   ]
  },
  {
   "cell_type": "code",
   "execution_count": 29,
   "id": "7bc27fb2-32ed-4aa1-a3fe-41ce2f0f6676",
   "metadata": {
    "tags": []
   },
   "outputs": [],
   "source": [
    "file_path = r\"C:\\Users\\Jofu2\\Desktop\\rosalind_mprt_5.txt\""
   ]
  },
  {
   "cell_type": "code",
   "execution_count": 30,
   "id": "e31af6d3-b155-4281-b5c9-7aeae2f4518d",
   "metadata": {
    "tags": []
   },
   "outputs": [],
   "source": [
    "results = {}"
   ]
  },
  {
   "cell_type": "code",
   "execution_count": 31,
   "id": "b8d17649-e39a-4d75-8b86-5eedcdcf9631",
   "metadata": {
    "tags": []
   },
   "outputs": [],
   "source": [
    "# Function to extract the protein sequence from UniProt database\n",
    "def sequence_extraction(uniprotID):\n",
    "    proteinurl = \"http://uniprot.org/uniprot/\" + uniprotID + \".txt\"\n",
    "    file_contents = requests.get(proteinurl)\n",
    "\n",
    "    if file_contents.status_code == 200:  # http code to say that the webpage is ok \n",
    "        lines = file_contents.text.split('\\n')\n",
    "        sequence = \"\"  # variable sequence is empty but I can append data to it \n",
    "        in_sequence = False\n",
    "\n",
    "        for line in lines:  # this is the for loop to search the .txt file for \"SQ\" going through each line of the text file\n",
    "            if line.startswith(\"SQ\"):\n",
    "                in_sequence = True\n",
    "                continue  # continue used in loops to skip the rest of the code and move to the next iteration.\n",
    "\n",
    "            if in_sequence and line.strip():\n",
    "                line = line.replace(\" \", \"\").replace(\"/\", \"\")  # replaces any spaces or / with nothing\n",
    "                sequence += line  # Concatenate the sequence lines to the variable sequence \n",
    "\n",
    "        if sequence:\n",
    "            return sequence\n",
    "        else:\n",
    "            return \"No sequence found for the provided UniProt ID.\"\n",
    "    else:\n",
    "        return \"UNIPROT ERROR: Invalid UniProt ID or resource not found.\""
   ]
  },
  {
   "cell_type": "code",
   "execution_count": 32,
   "id": "f296e8f4-1d30-445a-939e-c31718512c4f",
   "metadata": {
    "tags": []
   },
   "outputs": [],
   "source": [
    "# Function to search for the N-glycosylation motif\n",
    "def n_glycosylation_search(protein_sequence):\n",
    "    n_glycosylation = re.finditer(r\"N(?=([^P][ST][^P]))\", protein_sequence)  # Corrected regex pattern\n",
    "    positions = [match.start() + 1 for match in n_glycosylation]  # +1 to convert from counting from 0 to counting from 1\n",
    "    return positions"
   ]
  },
  {
   "cell_type": "code",
   "execution_count": 34,
   "id": "5eda865b-98e1-4447-b7a0-e275b85c2901",
   "metadata": {
    "tags": []
   },
   "outputs": [],
   "source": [
    "# Opening the file and processing each UniProt ID\n",
    "#This last because sequence extraction and n glycosylation search are within it \n",
    "with open(file_path, 'r') as file:\n",
    "    for line in file:\n",
    "        uniprotID = line.strip()\n",
    "        protein_sequence = sequence_extraction(uniprotID)\n",
    "        if protein_sequence:\n",
    "            glycosylation_sites = n_glycosylation_search(protein_sequence)  # searches and saves the locations\n",
    "            results[uniprotID] = glycosylation_sites"
   ]
  },
  {
   "cell_type": "code",
   "execution_count": 35,
   "id": "364acf31-140c-46da-83e8-1f81be69fd65",
   "metadata": {
    "tags": []
   },
   "outputs": [
    {
     "name": "stdout",
     "output_type": "stream",
     "text": [
      "UniProt ID: Q05557, N-glycosylation site: []\n",
      "UniProt ID: Q9LHF1, N-glycosylation site: [3, 4, 60, 94, 106, 289, 340]\n",
      "UniProt ID: P13838_LEUK_RAT, N-glycosylation site: []\n",
      "UniProt ID: P02725_GLP_PIG, N-glycosylation site: []\n",
      "UniProt ID: P47002, N-glycosylation site: [35, 552, 608]\n",
      "UniProt ID: Q8ZRE7, N-glycosylation site: []\n",
      "UniProt ID: Q81QB7, N-glycosylation site: [27]\n",
      "UniProt ID: P81447_MPP3_CAPHI, N-glycosylation site: []\n",
      "UniProt ID: B4R8K2, N-glycosylation site: []\n",
      "UniProt ID: P07987_GUX2_TRIRE, N-glycosylation site: []\n",
      "UniProt ID: Q4JAS3, N-glycosylation site: []\n",
      "UniProt ID: Q9D9T0, N-glycosylation site: [154]\n",
      "UniProt ID: Q1LI56, N-glycosylation site: []\n"
     ]
    }
   ],
   "source": [
    "# Printing the results\n",
    "for uniprotID, sites in results.items():\n",
    "    print(f\"UniProt ID: {uniprotID}, N-glycosylation site: {sites}\")"
   ]
  },
  {
   "cell_type": "code",
   "execution_count": null,
   "id": "7994fd2c-9101-4bcd-9cd0-11b282471f2f",
   "metadata": {},
   "outputs": [],
   "source": []
  }
 ],
 "metadata": {
  "kernelspec": {
   "display_name": "Python 3 (ipykernel)",
   "language": "python",
   "name": "python3"
  },
  "language_info": {
   "codemirror_mode": {
    "name": "ipython",
    "version": 3
   },
   "file_extension": ".py",
   "mimetype": "text/x-python",
   "name": "python",
   "nbconvert_exporter": "python",
   "pygments_lexer": "ipython3",
   "version": "3.11.5"
  }
 },
 "nbformat": 4,
 "nbformat_minor": 5
}
