{
 "cells": [
  {
   "cell_type": "code",
   "execution_count": null,
   "id": "524566ab-8ac5-4a60-a44a-8fae4bee5dd0",
   "metadata": {
    "tags": []
   },
   "outputs": [],
   "source": [
    "# A python programme utilising Biopython to calculate the GC content of imported FASTA files and return their id\n",
    "# This was my first time using Biopython and I underestimated how much easier it would make coding \n",
    "# Also started to use anaconda to create specialist environments for my code\n",
    "# Thanks to Camillo for giving me hints in the right direction"
   ]
  },
  {
   "cell_type": "code",
   "execution_count": null,
   "id": "bbf301ef-1d6d-4279-ac0b-c8d6602b0543",
   "metadata": {},
   "outputs": [],
   "source": [
    "from Bio import SeqIO"
   ]
  },
  {
   "cell_type": "code",
   "execution_count": null,
   "id": "fc42db61-1210-43bc-8761-915e998b8633",
   "metadata": {
    "tags": []
   },
   "outputs": [],
   "source": [
    "from Bio.Seq import Seq"
   ]
  },
  {
   "cell_type": "code",
   "execution_count": null,
   "id": "3869faab-8972-46c1-8c15-48b5b41519a9",
   "metadata": {
    "tags": []
   },
   "outputs": [],
   "source": [
    "from Bio.SeqUtils import gc_fraction"
   ]
  },
  {
   "cell_type": "code",
   "execution_count": null,
   "id": "f7c918f9-700b-4f5a-90cd-e95bbe024927",
   "metadata": {},
   "outputs": [],
   "source": [
    "for seq_record in SeqIO.parse(\"rosalind_gc.txt\", \"fasta\"):\n",
    "    print(seq_record.id) #Rosalind ID \n",
    "    print(repr(seq_record.seq)) #representative of the sequence \n",
    "    print(len(seq_record)) #Sequence length\n",
    "    print(gc_fraction(seq_record)*100) #GC content converted to a %"
   ]
  },
  {
   "cell_type": "code",
   "execution_count": null,
   "id": "613f116d-9e23-4365-a932-3a53e937f15a",
   "metadata": {},
   "outputs": [],
   "source": [
    "name = []\n",
    "gc_content = []\n",
    "for seq_record in SeqIO.parse(\"rosalind_gc.txt\", \"fasta\"):\n",
    "    name.append(seq_record.id)\n",
    "    gc_content.append(gc_fraction(seq_record)*100)"
   ]
  },
  {
   "cell_type": "code",
   "execution_count": null,
   "id": "018be44b-0a19-48e9-80de-4caf69f90145",
   "metadata": {},
   "outputs": [],
   "source": [
    "gc_content.index(max(gc_content))\n",
    "namestring = (name[gc_content.index(max(gc_content))])\n",
    "gccontentstring = (max(gc_content))"
   ]
  },
  {
   "cell_type": "code",
   "execution_count": null,
   "id": "3a4530a8-5f5b-44c5-99b0-d1afdac961f1",
   "metadata": {},
   "outputs": [],
   "source": [
    "print(\"Sequence ID : \" + str(namestring))\n",
    "print(\"GC Content % : \" + str(gccontentstring))"
   ]
  },
  {
   "cell_type": "code",
   "execution_count": null,
   "id": "7c510010-d6b2-4aa4-a088-53f144acae84",
   "metadata": {},
   "outputs": [],
   "source": []
  }
 ],
 "metadata": {
  "kernelspec": {
   "display_name": "Python 3 (ipykernel)",
   "language": "python",
   "name": "python3"
  },
  "language_info": {
   "codemirror_mode": {
    "name": "ipython",
    "version": 3
   },
   "file_extension": ".py",
   "mimetype": "text/x-python",
   "name": "python",
   "nbconvert_exporter": "python",
   "pygments_lexer": "ipython3",
   "version": "3.10.13"
  }
 },
 "nbformat": 4,
 "nbformat_minor": 5
}
