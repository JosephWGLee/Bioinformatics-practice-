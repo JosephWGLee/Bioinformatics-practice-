{
 "cells": [
  {
   "cell_type": "code",
   "execution_count": 8,
   "id": "524566ab-8ac5-4a60-a44a-8fae4bee5dd0",
   "metadata": {},
   "outputs": [],
   "source": [
    "from Bio import SeqIO"
   ]
  },
  {
   "cell_type": "code",
   "execution_count": 19,
   "id": "fc42db61-1210-43bc-8761-915e998b8633",
   "metadata": {},
   "outputs": [],
   "source": [
    "from Bio.Seq import Seq"
   ]
  },
  {
   "cell_type": "code",
   "execution_count": 20,
   "id": "3869faab-8972-46c1-8c15-48b5b41519a9",
   "metadata": {},
   "outputs": [],
   "source": [
    "from Bio.SeqUtils import gc_fraction"
   ]
  },
  {
   "cell_type": "code",
   "execution_count": 27,
   "id": "f7c918f9-700b-4f5a-90cd-e95bbe024927",
   "metadata": {},
   "outputs": [
    {
     "name": "stdout",
     "output_type": "stream",
     "text": [
      "Rosalind_0206\n",
      "Seq('GCCTTTACCACGAGGTATGCTGGGCGACTCTTGCTTTAGAGTAACCTATCTTAA...AGC')\n",
      "874\n",
      "50.34324942791763\n",
      "Rosalind_0470\n",
      "Seq('GGAGTAATACCCAGGGCAGTCAACGCAAACATAGAACCGCCAACATCCGGGGGT...TGT')\n",
      "960\n",
      "51.24999999999999\n",
      "Rosalind_0475\n",
      "Seq('ACGCCCTGTCAAATCAGCTTGCGATCCGTATTTCTCGGGGTGTGTATGAGTGTC...GGA')\n",
      "886\n",
      "50.22573363431151\n",
      "Rosalind_2302\n",
      "Seq('AAAAATTAAGCGAATGAATCAGGAGTCCCCGTGTGTAGGCGTGATTGTATGCGT...ACG')\n",
      "836\n",
      "50.23923444976076\n",
      "Rosalind_5847\n",
      "Seq('ATTAAAATTTCGTGGATGATGAAAGAATTGGTGGAAGCCGAACCTATAGTTTGC...GAG')\n",
      "974\n",
      "48.25462012320328\n",
      "Rosalind_8282\n",
      "Seq('TAACATTCCATTAACAGTCTATCGCCGGTTCATTGAGTAACCGATCGCGTGTGG...GTA')\n",
      "859\n",
      "52.15366705471478\n",
      "Rosalind_9111\n",
      "Seq('CTGAGCGGATGACAGGGAAAAGTAGCTTCGCCGCGCTAGCTTTGAGCTCGACGG...CTA')\n",
      "954\n",
      "50.314465408805034\n"
     ]
    }
   ],
   "source": [
    "for seq_record in SeqIO.parse(\"rosalind_gc.txt\", \"fasta\"):\n",
    "    print(seq_record.id)\n",
    "    print(repr(seq_record.seq)) #representative of the sequence \n",
    "    print(len(seq_record))\n",
    "    print(gc_fraction(seq_record)*100)"
   ]
  },
  {
   "cell_type": "code",
   "execution_count": 44,
   "id": "785d8700-2c0b-47f4-83a0-83f59d31e13f",
   "metadata": {},
   "outputs": [
    {
     "name": "stdout",
     "output_type": "stream",
     "text": [
      "Rosalind_0206\n",
      "Rosalind_0470\n",
      "Rosalind_0475\n",
      "Rosalind_2302\n",
      "Rosalind_5847\n",
      "Rosalind_8282\n",
      "Rosalind_9111\n"
     ]
    }
   ],
   "source": [
    "for seq_record in SeqIO.parse(\"rosalind_gc.txt\", \"fasta\"):\n",
    "    print(seq_record.id)"
   ]
  },
  {
   "cell_type": "code",
   "execution_count": 37,
   "id": "952c6332-907c-4ae8-8bfd-c72f2fb116c0",
   "metadata": {},
   "outputs": [
    {
     "name": "stdout",
     "output_type": "stream",
     "text": [
      "50.34324942791763\n",
      "51.24999999999999\n",
      "50.22573363431151\n",
      "50.23923444976076\n",
      "48.25462012320328\n",
      "52.15366705471478\n",
      "50.314465408805034\n"
     ]
    }
   ],
   "source": [
    "for seq_record in SeqIO.parse(\"rosalind_gc.txt\", \"fasta\"):\n",
    "    print(gc_fraction(seq_record)*100)"
   ]
  },
  {
   "cell_type": "code",
   "execution_count": null,
   "id": "854d9fac-4a30-4f1c-9e7b-6a60e5d8226a",
   "metadata": {},
   "outputs": [],
   "source": [
    "#list of seq_record.id loop through my seq record id "
   ]
  },
  {
   "cell_type": "code",
   "execution_count": null,
   "id": "e0fbf656-a2d8-4fd8-8641-e14f2a2cff33",
   "metadata": {},
   "outputs": [],
   "source": [
    "#list of GC_content "
   ]
  },
  {
   "cell_type": "code",
   "execution_count": null,
   "id": "d5b7897e-f954-4103-a670-306e4d800575",
   "metadata": {},
   "outputs": [],
   "source": [
    "#Return index position of largest GC content (3)"
   ]
  },
  {
   "cell_type": "code",
   "execution_count": 57,
   "id": "0d5c9edb-ed2c-4945-8469-fd56ad8190fd",
   "metadata": {},
   "outputs": [],
   "source": [
    "list = [5, 6, 7]"
   ]
  },
  {
   "cell_type": "code",
   "execution_count": 58,
   "id": "f6247d75-d3d8-46a6-9262-1c96908ff2f6",
   "metadata": {},
   "outputs": [
    {
     "data": {
      "text/plain": [
       "2"
      ]
     },
     "execution_count": 58,
     "metadata": {},
     "output_type": "execute_result"
    }
   ],
   "source": [
    "list.index(max(list))"
   ]
  },
  {
   "cell_type": "code",
   "execution_count": 60,
   "id": "85e76e86-6e3e-4688-a9b7-b807245fca98",
   "metadata": {},
   "outputs": [],
   "source": [
    "list2 = [\"A\", \"B\", \"C\"]"
   ]
  },
  {
   "cell_type": "code",
   "execution_count": 62,
   "id": "8ec9de8f-0ec6-4c53-a366-318119a6fa68",
   "metadata": {},
   "outputs": [
    {
     "data": {
      "text/plain": [
       "'C'"
      ]
     },
     "execution_count": 62,
     "metadata": {},
     "output_type": "execute_result"
    }
   ],
   "source": [
    "list2[2]"
   ]
  },
  {
   "cell_type": "code",
   "execution_count": 69,
   "id": "25c5dcf9-658d-402d-ba71-7da67a3da9cc",
   "metadata": {},
   "outputs": [
    {
     "name": "stdout",
     "output_type": "stream",
     "text": [
      "C\n",
      "2\n"
     ]
    }
   ],
   "source": [
    "print(list2[2])\n",
    "print(list.index(max(list)))"
   ]
  },
  {
   "cell_type": "code",
   "execution_count": null,
   "id": "7bb40505-e98c-4799-80f7-4218a3f3e862",
   "metadata": {},
   "outputs": [],
   "source": []
  },
  {
   "cell_type": "code",
   "execution_count": null,
   "id": "26b1abae-efc6-418d-bf21-f42ecc6ce085",
   "metadata": {},
   "outputs": [],
   "source": []
  },
  {
   "cell_type": "code",
   "execution_count": null,
   "id": "8aca2245-d6e0-4635-ae9a-38e75c46c226",
   "metadata": {},
   "outputs": [],
   "source": [
    "#loop through seq records "
   ]
  },
  {
   "cell_type": "code",
   "execution_count": null,
   "id": "1f01677f-9294-49ef-b6ec-1809127d7c8a",
   "metadata": {},
   "outputs": [],
   "source": [
    "#fix the file path thing "
   ]
  }
 ],
 "metadata": {
  "kernelspec": {
   "display_name": "Python 3 (ipykernel)",
   "language": "python",
   "name": "python3"
  },
  "language_info": {
   "codemirror_mode": {
    "name": "ipython",
    "version": 3
   },
   "file_extension": ".py",
   "mimetype": "text/x-python",
   "name": "python",
   "nbconvert_exporter": "python",
   "pygments_lexer": "ipython3",
   "version": "3.10.9"
  }
 },
 "nbformat": 4,
 "nbformat_minor": 5
}
