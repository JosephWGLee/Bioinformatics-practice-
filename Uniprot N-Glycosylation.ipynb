{
 "cells": [
  {
   "cell_type": "code",
   "execution_count": 2,
   "id": "be2ab30f-afd0-4847-87c5-e1877e74f458",
   "metadata": {
    "tags": []
   },
   "outputs": [],
   "source": [
    "#code = \"B5ZC00\"\n",
    "#data = urllib3.urlopen(\"http://www.uniprot.org/uniprot/\" + code + \".txt\").read()\n",
    "#B5ZC00\n",
    "#85 118 142 306 395"
   ]
  },
  {
   "cell_type": "code",
   "execution_count": 3,
   "id": "8b03accc-ca57-44d1-9798-9aa3a7398db4",
   "metadata": {},
   "outputs": [],
   "source": [
    "#To allow for the presence of its varying forms, a protein motif is represented by a shorthand as follows: \n",
    "#[XY] means \"either X or Y\" and {X} means \"any amino acid except X.\" For example, the N-glycosylation motif is written as N{P}[ST]{P}."
   ]
  },
  {
   "cell_type": "code",
   "execution_count": 4,
   "id": "c9141ca2-cd52-4638-9b3f-714e281ba09e",
   "metadata": {
    "tags": []
   },
   "outputs": [],
   "source": [
    "import urllib.request"
   ]
  },
  {
   "cell_type": "code",
   "execution_count": 5,
   "id": "d87c80ef-96e4-4bb7-868b-32724698eb13",
   "metadata": {
    "tags": []
   },
   "outputs": [],
   "source": [
    "import requests"
   ]
  },
  {
   "cell_type": "code",
   "execution_count": 6,
   "id": "41c5e7f9-bf0c-4e40-a5f6-6a052e68c480",
   "metadata": {
    "tags": []
   },
   "outputs": [],
   "source": [
    "import re "
   ]
  },
  {
   "cell_type": "code",
   "execution_count": 7,
   "id": "421a5f6e-e0cb-4c26-908f-4ed16b5bc1a6",
   "metadata": {
    "tags": []
   },
   "outputs": [],
   "source": [
    "uniprotID = \"B5ZC00\""
   ]
  },
  {
   "cell_type": "code",
   "execution_count": 8,
   "id": "f99078b1-0952-4322-86e7-2a35d9762b43",
   "metadata": {
    "tags": []
   },
   "outputs": [],
   "source": [
    "proteinurl = \"http://uniprot.org/uniprot/\" + uniprotID + \".txt\""
   ]
  },
  {
   "cell_type": "code",
   "execution_count": 9,
   "id": "df8a82dc-e92b-4120-a193-9ba8474115e0",
   "metadata": {
    "tags": []
   },
   "outputs": [
    {
     "name": "stdout",
     "output_type": "stream",
     "text": [
      "http://uniprot.org/uniprot/B5ZC00.txt\n"
     ]
    }
   ],
   "source": [
    "print(proteinurl)"
   ]
  },
  {
   "cell_type": "code",
   "execution_count": 10,
   "id": "d3f78008-32cf-4338-b033-b0c394586653",
   "metadata": {
    "tags": []
   },
   "outputs": [
    {
     "name": "stdout",
     "output_type": "stream",
     "text": [
      "MKNKFKTQEELVNHLKTVGFVFANSEIYNGLANAWDYGPLGVLLKNNLKNLWWKEFVTKQKDVVGLDSAIILNPLVWKASGHLDNFSDPLIDCKNCKARYRADKLIESFDENIHIAENSSNEEFAKVLNDYEISCPTCKQFNWTEIRHFNLMFKTYQGVIEDAKNVVYLRPETAQGIFVNFKNVQRSMRLHLPFGIAQIGKSFRNEITPGNFIFRTREFEQMEIEFFLKEESAYDIFDKYLNQIENWLVSACGLSLNNLRKHEHPKEELSHYSKKTIDFEYNFLHGFSELYGIAYRTNYDLSVHMNLSKKDLTYFDEQTKEKYVPHVIEPSVGVERLLYAILTEATFIEKLENDDERILMDLKYDLAPYKIAVMPLVNKLKDKAEEIYGKILDLNISATFDNSGSIGKRYRRQDAIGTIYCLTIDFDSLDDQQDPSFTIRERNSMAQKRIKLSELPLYLNQKAHEDFQRQCQK\n"
     ]
    }
   ],
   "source": [
    "import requests\n",
    "\n",
    "def sequence_extraction(uniprotID): \n",
    "    proteinurl = \"http://uniprot.org/uniprot/\" + uniprotID + \".txt\" \n",
    "    file_contents = requests.get(proteinurl)\n",
    "\n",
    "    if file_contents.status_code == 200: #http code to say that the webpage is ok \n",
    "        lines = file_contents.text.split('\\n')\n",
    "        sequence = \"\" #variable sequence is empty but I can append data to it \n",
    "        in_sequence = False\n",
    "\n",
    "        for line in lines: #ok this is my for loop to search the .txt file for \"SQ\" going through each line of the text file\n",
    "            if line.startswith(\"SQ\"):\n",
    "                in_sequence = True\n",
    "                continue  #continue used in loops to skip the rest of the code and move to the next iteration.\n",
    "\n",
    "            if in_sequence and line.strip():\n",
    "                line = line.replace(\" \", \"\").replace(\"/\", \"\") #replaces and any spaces or / with nothing\n",
    "                sequence += line # Concatenate the sequence lines to the variable sequence \n",
    "                \n",
    "        if sequence:  \n",
    "            return sequence\n",
    "        else:\n",
    "            return \"No sequence found for the provided UniProt ID.\"\n",
    "    else:\n",
    "        return \"UNIPROT ERROR: Invalid UniProt ID or resource not found.\"\n",
    "\n",
    "    \n",
    "uniprotID = \"B5ZC00\"\n",
    "protein_sequence = sequence_extraction(uniprotID)\n",
    "print(protein_sequence)"
   ]
  },
  {
   "cell_type": "code",
   "execution_count": 11,
   "id": "50b751fc-4c3e-4e62-8b22-fd37e4d06e19",
   "metadata": {
    "tags": []
   },
   "outputs": [
    {
     "ename": "NameError",
     "evalue": "name 'protein_sequence_list' is not defined",
     "output_type": "error",
     "traceback": [
      "\u001b[1;31m---------------------------------------------------------------------------\u001b[0m",
      "\u001b[1;31mNameError\u001b[0m                                 Traceback (most recent call last)",
      "Cell \u001b[1;32mIn[11], line 1\u001b[0m\n\u001b[1;32m----> 1\u001b[0m \u001b[38;5;28mprint\u001b[39m(protein_sequence_list)\n",
      "\u001b[1;31mNameError\u001b[0m: name 'protein_sequence_list' is not defined"
     ]
    }
   ],
   "source": [
    "#print(protein_sequence_list)"
   ]
  },
  {
   "cell_type": "code",
   "execution_count": null,
   "id": "6f6019c2-f3d0-45db-bd3b-22f0c74f49b3",
   "metadata": {
    "tags": []
   },
   "outputs": [],
   "source": [
    "#re regular expression support\n",
    "# | \"pipe\" used to show OR or alternations so N*S OR (|) N*T\n",
    "# N(?!P): Negative lookahead that ensures \"N\" is not followed by \"P\"."
   ]
  },
  {
   "cell_type": "code",
   "execution_count": 32,
   "id": "d6fc97ac-9097-42d1-8ae8-0bfa9dc68bcb",
   "metadata": {
    "tags": []
   },
   "outputs": [],
   "source": [
    "n_glycosylation_motif = (re.findall(r\"N[^P][ST]\", protein_sequence))"
   ]
  },
  {
   "cell_type": "code",
   "execution_count": 55,
   "id": "3048aa3c-6b4b-42f0-829e-3fb6e52c2bed",
   "metadata": {
    "tags": []
   },
   "outputs": [],
   "source": [
    "n_glycosylation_location = (re.finditer(r\"N[^P][ST]\", protein_sequence))\n",
    "positions =[(match.start()) for match in n_glycosylation_location]"
   ]
  },
  {
   "cell_type": "code",
   "execution_count": 56,
   "id": "2b9750fd-1a4c-4848-a26f-f36aec0269ad",
   "metadata": {
    "tags": []
   },
   "outputs": [
    {
     "name": "stdout",
     "output_type": "stream",
     "text": [
      "UniprotID: B5ZC00\n",
      "n_glycosylation motif(s):\n",
      "['NFS', 'NSS', 'NWT', 'NLS', 'NIS', 'NSS']\n",
      "[85, 118, 142, 306, 395, 474]\n"
     ]
    }
   ],
   "source": [
    "if re.search(r\"(?!NPS|NPT)N*S|N*T\", protein_sequence):\n",
    "    \n",
    "    print(f\"UniprotID: {uniprotID}\")\n",
    "    print(f\"n_glycosylation motif(s):\")\n",
    "    print(f\"{n_glycosylation_motif}\")\n",
    "    print([x + 1 for x in positions]) #list comprehension for ease. \n",
    "    \n",
    "else:\n",
    "    print(f\"n_glycosylation motif(s) NOT found\")\n",
    "    "
   ]
  },
  {
   "cell_type": "code",
   "execution_count": null,
   "id": "14c23e6f-c507-45a1-bcd0-6c2addc41dd6",
   "metadata": {},
   "outputs": [],
   "source": []
  }
 ],
 "metadata": {
  "kernelspec": {
   "display_name": "Python 3 (ipykernel)",
   "language": "python",
   "name": "python3"
  },
  "language_info": {
   "codemirror_mode": {
    "name": "ipython",
    "version": 3
   },
   "file_extension": ".py",
   "mimetype": "text/x-python",
   "name": "python",
   "nbconvert_exporter": "python",
   "pygments_lexer": "ipython3",
   "version": "3.11.5"
  }
 },
 "nbformat": 4,
 "nbformat_minor": 5
}
